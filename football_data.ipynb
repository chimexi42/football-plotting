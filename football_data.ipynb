{
  "nbformat": 4,
  "nbformat_minor": 0,
  "metadata": {
    "colab": {
      "name": "football data",
      "provenance": [],
      "collapsed_sections": [],
      "authorship_tag": "ABX9TyPlbbSjG8pTmnh0/eNW4ldu",
      "include_colab_link": true
    },
    "kernelspec": {
      "name": "python3",
      "display_name": "Python 3"
    }
  },
  "cells": [
    {
      "cell_type": "markdown",
      "metadata": {
        "id": "view-in-github",
        "colab_type": "text"
      },
      "source": [
        "<a href=\"https://colab.research.google.com/github/chimexi42/football-plotting/blob/main/football_data.ipynb\" target=\"_parent\"><img src=\"https://colab.research.google.com/assets/colab-badge.svg\" alt=\"Open In Colab\"/></a>"
      ]
    },
    {
      "cell_type": "code",
      "metadata": {
        "colab": {
          "base_uri": "https://localhost:8080/"
        },
        "id": "1NZLJ55PJXRi",
        "outputId": "ef968ca2-1bf6-4720-f94b-4be69a1af64c"
      },
      "source": [
        "pip install mplsoccer"
      ],
      "execution_count": null,
      "outputs": [
        {
          "output_type": "stream",
          "text": [
            "Collecting mplsoccer\n",
            "  Downloading https://files.pythonhosted.org/packages/52/fb/8e35a185a3831ceece749839c829d0bc9ff7b84643a2a6a1acb05e608ede/mplsoccer-0.0.21.tar.gz\n",
            "Building wheels for collected packages: mplsoccer\n",
            "  Building wheel for mplsoccer (setup.py) ... \u001b[?25l\u001b[?25hdone\n",
            "  Created wheel for mplsoccer: filename=mplsoccer-0.0.21-cp36-none-any.whl size=32700 sha256=f7793312a7ad4a5aa682743d9b6bc8076635ce2d96ff8d774aaafd99478b7e72\n",
            "  Stored in directory: /root/.cache/pip/wheels/b4/c3/eb/77c9eb9fd22579e5df94e53c2276e98c57bfc2b73eb4c94281\n",
            "Successfully built mplsoccer\n",
            "Installing collected packages: mplsoccer\n",
            "Successfully installed mplsoccer-0.0.21\n"
          ],
          "name": "stdout"
        }
      ]
    },
    {
      "cell_type": "code",
      "metadata": {
        "id": "1SvE9DrvJu1I"
      },
      "source": [
        "import matplotlib.pyplot as plt\r\n",
        "from mplsoccer.pitch import Pitch\r\n",
        "plt.style.use('ggplot')\r\n"
      ],
      "execution_count": null,
      "outputs": []
    },
    {
      "cell_type": "code",
      "metadata": {
        "id": "Rx3awmyTJ25f",
        "colab": {
          "base_uri": "https://localhost:8080/",
          "height": 297
        },
        "outputId": "c48f40d2-7b04-4e9b-d752-2db89b020eeb"
      },
      "source": [
        "pitch = Pitch(figsize=(8, 4))  # specifying figure size is optional (width, height)\r\n",
        "fig, ax = pitch.draw()"
      ],
      "execution_count": null,
      "outputs": [
        {
          "output_type": "display_data",
          "data": {
            "image/png": "[encoded data removed]",
            "text/plain": [
              "<Figure size 576x288 with 1 Axes>"
            ]
          },
          "metadata": {
            "tags": []
          }
        }
      ]
    }
  ]
}